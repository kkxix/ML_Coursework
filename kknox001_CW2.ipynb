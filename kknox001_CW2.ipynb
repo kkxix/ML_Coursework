{
 "cells": [
  {
   "cell_type": "code",
   "execution_count": 2,
   "metadata": {},
   "outputs": [],
   "source": [
    "import numpy as np\n",
    "import matplotlib.pyplot as plt\n",
    "from sklearn.metrics import mean_squared_error, r2_score\n",
    "from sklearn import metrics, linear_model"
   ]
  },
  {
   "cell_type": "code",
   "execution_count": 3,
   "metadata": {},
   "outputs": [],
   "source": [
    "X = np.asarray ([[0.50], [0.75], [1.00], [1.25], [1.50], [1.75], [3.00], [4.75],\n",
    "[1.75], [3.25], [5.00], [2.00], [2.25], [2.50], [2.75], [3.50], [4.00], [4.25],\n",
    "[4.50], [5.50]])\n",
    "y = np.asarray([0, 0, 0, 0, 0, 0, 1, 0, 1, 0, 1,0,1,0,1,1,1,1,1,1])"
   ]
  },
  {
   "cell_type": "code",
   "execution_count": 4,
   "metadata": {},
   "outputs": [],
   "source": [
    "def inner(x, theta):\n",
    "    '''\n",
    "    Returns the dot product of theta and x.\n",
    "\n",
    "            Parameters:\n",
    "                    x (numpy.array): one data sample expressed as an array\n",
    "                    theta (numpy.array): an array of coefficient values\n",
    "\n",
    "            Returns:\n",
    "                    numpy.dot(theta, x) (numpy.array): Dot product of theta and data sample \n",
    "    '''\n",
    "    \n",
    "#     Add x_0 = 1 to data sample \n",
    "    x_mod = np.array([[1]])\n",
    "    x_mod = np.append(x_mod, x)\n",
    "    \n",
    "    return np.dot(theta, x_mod)"
   ]
  },
  {
   "cell_type": "code",
   "execution_count": 5,
   "metadata": {},
   "outputs": [],
   "source": [
    "def h_log( x, theta):\n",
    "    '''\n",
    "    Returns the logarithmic hypothesis for one data sample x given parameters theta.\n",
    "\n",
    "            Parameters:\n",
    "                    x (numpy.array): one data sample expressed as an array\n",
    "                    theta (numpy.array): an array of coefficient values\n",
    "\n",
    "            Returns:\n",
    "                    h (float): The probability of x being a 'yes instance' given parameters theta \n",
    "    '''\n",
    "    \n",
    "#     Call inner to calculate exponent \n",
    "    t = inner(x, theta)\n",
    "    \n",
    "#     Calculate h_theta(x) using sigmoid \n",
    "    h = 1 / (1 + np.exp(-t))\n",
    "    return h"
   ]
  },
  {
   "cell_type": "code",
   "execution_count": 6,
   "metadata": {},
   "outputs": [],
   "source": [
    "def cost(theta, x, y):\n",
    "    '''\n",
    "    Returns the cost of parameters theta.\n",
    "\n",
    "            Parameters:\n",
    "                    theta (numpy.array): an array of coefficient values\n",
    "                    x (numpy.array): one data sample expressed as an array\n",
    "                    y (float): target value corresponding to x \n",
    "\n",
    "            Returns:\n",
    "                    cost (float): the cost of parameters theta\n",
    "    '''\n",
    "#     Find hypothesized probability of x given theta \n",
    "    h = h_log(x, theta)\n",
    "    \n",
    "#     Calculate the cost using the cost function\n",
    "    cost = (-y)*np.log(h) - (1-y)*np.log(1-h)\n",
    "    return cost"
   ]
  },
  {
   "cell_type": "code",
   "execution_count": 7,
   "metadata": {},
   "outputs": [],
   "source": [
    "def loss(m, theta, X, y):\n",
    "    '''\n",
    "    Returns the loss associated with parameters theta.\n",
    "\n",
    "            Parameters:\n",
    "                    m (int): number of data samples in X\n",
    "                    theta (numpy.array): an array of coefficient values\n",
    "                    X (numpy.array): array of all data samples \n",
    "                    y (numpy.array): target values corresponding to X\n",
    "\n",
    "            Returns:\n",
    "                    loss (float): the average cost of using paramters theta to predict targets for X\n",
    "    '''\n",
    "    costs = []\n",
    "    \n",
    "#     Find the cost for each data sample in X\n",
    "    for i in range(0,m):\n",
    "        costs.append(cost(theta, X[i], y[i]))\n",
    "        \n",
    "#     Calculate the loss using the loss function \n",
    "    loss = (1/(2*m))*np.sum(costs)\n",
    "    return loss"
   ]
  },
  {
   "cell_type": "code",
   "execution_count": 8,
   "metadata": {},
   "outputs": [],
   "source": [
    "def gradient_batch(theta, X, y, j):\n",
    "    '''\n",
    "    Returns the batch gradient associated with parameters theta for feature j of data set X.\n",
    "\n",
    "            Parameters:\n",
    "                    theta (numpy.array): an array of coefficient values\n",
    "                    X (numpy.array): array of all data samples \n",
    "                    y (numpy.array): target values corresponding to X\n",
    "                    j (int): the feature for which to calculate the gradient \n",
    "\n",
    "            Returns:\n",
    "                    gradient (float): the gradient associated with parameters theta for feature j of data set X.\n",
    "    '''\n",
    "    \n",
    "    m = len(X)\n",
    "    n = len(theta)\n",
    "    \n",
    "    epsilon = 0.\n",
    "    \n",
    "#     Sum the difference between predicted and actual target value for each data sample in X and multiply by X[i]_j\n",
    "#     Note, X[i]_0 for all i = 1\n",
    "    for i in range(0, m):\n",
    "        \n",
    "        x = X[i]\n",
    "        h = h_log( x, theta)\n",
    "\n",
    "        diff = h - y[i]\n",
    "        \n",
    "        if j == 0:\n",
    "            epsilon += diff \n",
    "        else:\n",
    "            epsilon += (diff*x[j-1])\n",
    "            \n",
    "#     Return average \n",
    "    return (1/m)*epsilon"
   ]
  },
  {
   "cell_type": "code",
   "execution_count": 9,
   "metadata": {},
   "outputs": [],
   "source": [
    "def gradient_descent(X, y, old_theta, alpha, loss_stop_threshold):\n",
    "    '''\n",
    "    Returns optimized theta using logistic gradient descent and list of losses\n",
    "\n",
    "            Parameters:\n",
    "                    X (numpy.array): array of all data samples \n",
    "                    y (numpy.array): target values corresponding to X\n",
    "                    old_theta (numpy.array): an array of coefficient values\n",
    "                    alpha (float): gradient descent learning rate \n",
    "                    loss_stop_threshold (float): gradient descent stopping criterion \n",
    "\n",
    "            Returns:\n",
    "                    theta (numpy.array): array of optimized coefficient values\n",
    "                    losses (list): a lsit of calculated loss for each iteration of the while loop  \n",
    "    '''\n",
    "    theta = old_theta.copy()\n",
    "    \n",
    "    m = len(X)\n",
    "    n = len(theta)\n",
    "    \n",
    "#     Calculate initial loss \n",
    "    losses = []\n",
    "    l = loss(m, theta, X, y)\n",
    "    delta_loss = loss_stop_threshold+1\n",
    "    losses.append(l)\n",
    "        \n",
    "#     Stop when loss is less than or equal to given threshold \n",
    "    while delta_loss > loss_stop_threshold:    \n",
    "        for j in range(0, n+1):\n",
    "            \n",
    "#             Find gradient for theta_j \n",
    "            grad = gradient_batch(theta, X, y, j)\n",
    "            \n",
    "#             Set theta_j to new value \n",
    "            temp = theta[0][j] - (alpha * grad) \n",
    "            theta[0][j] = temp\n",
    "\n",
    "#         Calculate new loss and add to list \n",
    "        new_loss = loss( m, theta, X, y )\n",
    "        delta_loss = abs(new_loss - l)\n",
    "        l = new_loss\n",
    "        losses.append(l)\n",
    "        \n",
    "    return theta, losses"
   ]
  },
  {
   "cell_type": "code",
   "execution_count": 10,
   "metadata": {},
   "outputs": [],
   "source": [
    "def predict(theta, X):\n",
    "    '''\n",
    "    Returns the predicted targets for X based on paramters theta.\n",
    "\n",
    "            Parameters:\n",
    "                    theta (numpy.array): an array of coefficient values\n",
    "                    X (numpy.array): array of all data samples \n",
    "                    \n",
    "            Returns:\n",
    "                    y (list): list of predicted targets for X based on paramters theta  \n",
    "    '''\n",
    "    m = len(X)\n",
    "    y = []\n",
    "    \n",
    "#     For each element, find probability of yes occurance, classify based on decision boundary, add to list to return \n",
    "    for j in range(0, m):\n",
    "        h = h_log(X[j], theta)\n",
    "        if h >= 0.5:\n",
    "            y.append(1)\n",
    "        if h < 0.5:\n",
    "            y.append(0)\n",
    "    return y"
   ]
  },
  {
   "cell_type": "code",
   "execution_count": 11,
   "metadata": {},
   "outputs": [
    {
     "name": "stdout",
     "output_type": "stream",
     "text": [
      "Predictions: \n",
      " [0, 0, 0, 0, 0, 0, 1, 1, 0, 1, 1, 0, 0, 0, 1, 1, 1, 1, 1, 1]\n",
      "Theta: \n",
      " [[-1.91170929  0.74907706]]\n",
      "Mean squared error: 0.20\n"
     ]
    },
    {
     "data": {
      "text/plain": [
       "<matplotlib.collections.PathCollection at 0x28d2521ccc8>"
      ]
     },
     "execution_count": 11,
     "metadata": {},
     "output_type": "execute_result"
    },
    {
     "data": {
      "image/png": "[encoded data removed]",
      "text/plain": [
       "<Figure size 432x288 with 1 Axes>"
      ]
     },
     "metadata": {
      "needs_background": "light"
     },
     "output_type": "display_data"
    }
   ],
   "source": [
    "### Test cell \n",
    "\n",
    "theta = np.array([[5., 5.]])\n",
    "\n",
    "# set stopping criterion\n",
    "loss_stop_threshold = 0.0001\n",
    "\n",
    "# learning rate\n",
    "alpha = .2\n",
    "\n",
    "\n",
    "optimal_theta, losses = gradient_descent(X, y, theta, alpha, loss_stop_threshold)\n",
    "y_pred_mine = predict(optimal_theta, X)\n",
    "\n",
    "# predictions\n",
    "print('Predictions: \\n', y_pred_mine)\n",
    "\n",
    "# The coefficients\n",
    "print('Theta: \\n', optimal_theta)\n",
    "\n",
    "# The mean squared error\n",
    "print(\"Mean squared error: %.2f\"\n",
    "      % mean_squared_error(y, y_pred_mine))\n",
    "\n",
    "# Plot outputs    \n",
    "plt.scatter(X, y,  color='black')\n",
    "plt.scatter(X, y_pred_mine, color='blue')"
   ]
  },
  {
   "cell_type": "code",
   "execution_count": 12,
   "metadata": {},
   "outputs": [
    {
     "name": "stdout",
     "output_type": "stream",
     "text": [
      "251\n"
     ]
    },
    {
     "data": {
      "text/plain": [
       "<matplotlib.collections.PathCollection at 0x28d252d8748>"
      ]
     },
     "execution_count": 12,
     "metadata": {},
     "output_type": "execute_result"
    },
    {
     "data": {
      "image/png": "[encoded data removed]",
      "text/plain": [
       "<Figure size 432x288 with 1 Axes>"
      ]
     },
     "metadata": {
      "needs_background": "light"
     },
     "output_type": "display_data"
    }
   ],
   "source": [
    "# Plot loss per iteration \n",
    "\n",
    "iterations = list(range(0, len(losses)))\n",
    "print(len(iterations))\n",
    "plt.scatter(iterations, losses)"
   ]
  },
  {
   "cell_type": "code",
   "execution_count": 13,
   "metadata": {},
   "outputs": [
    {
     "name": "stdout",
     "output_type": "stream",
     "text": [
      "[[8 2]\n",
      " [2 8]]\n",
      "accuracy: 0.80\n",
      "class 0, precision: 0.80, recall: 0.80,  f-score: 0.80\n",
      "class 1, precision: 0.80, recall: 0.80,  f-score: 0.80\n"
     ]
    }
   ],
   "source": [
    "# Confusion matrix analysis \n",
    "\n",
    "from sklearn import metrics\n",
    "\n",
    "CM = metrics.confusion_matrix(y, y_pred_mine)\n",
    "\n",
    "print(CM)\n",
    "print(\"accuracy: %.2f\" % metrics.accuracy_score(y, y_pred_mine))\n",
    "\n",
    "# calculate precision and recall (and f-score, a weighted average of precision and recall) \n",
    "precision,recall,fscore,_ = metrics.precision_recall_fscore_support(y, y_pred_mine)\n",
    "for c in np.unique(y):\n",
    "        print(\"class %s, precision: %.2f, recall: %.2f,  f-score: %.2f\" % (c, precision[c], recall[c], fscore[c]))"
   ]
  },
  {
   "cell_type": "code",
   "execution_count": 14,
   "metadata": {},
   "outputs": [
    {
     "name": "stdout",
     "output_type": "stream",
     "text": [
      "[0 0 0 0 0 0 1 1 0 1 1 0 0 1 1 1 1 1 1 1]\n",
      "Theta: \n",
      " [-1.14380478] [[0.50611753]]\n",
      "Mean squared error: 0.25\n"
     ]
    },
    {
     "data": {
      "text/plain": [
       "<matplotlib.collections.PathCollection at 0x28d263224c8>"
      ]
     },
     "execution_count": 14,
     "metadata": {},
     "output_type": "execute_result"
    },
    {
     "data": {
      "image/png": "[encoded data removed]",
      "text/plain": [
       "<Figure size 432x288 with 1 Axes>"
      ]
     },
     "metadata": {
      "needs_background": "light"
     },
     "output_type": "display_data"
    }
   ],
   "source": [
    "# Scikit-learn as a Basis for comparison \n",
    "\n",
    "# create a logisitic regression model\n",
    "logreg = linear_model.LogisticRegression(solver='liblinear',multi_class='auto')\n",
    "\n",
    "logreg.fit(X, y)\n",
    "\n",
    "# predictions\n",
    "y_pred = logreg.predict(X)\n",
    "print(y_pred)\n",
    "\n",
    "# The coefficients\n",
    "print('Theta: \\n', logreg.intercept_, logreg.coef_)\n",
    "\n",
    "# The mean squared error\n",
    "print(\"Mean squared error: %.2f\"\n",
    "      % mean_squared_error(y, y_pred))\n",
    "\n",
    "# Plot outputs\n",
    "plt.scatter(X, y,  color='black')\n",
    "plt.scatter(X, y_pred, color='blue')"
   ]
  },
  {
   "cell_type": "code",
   "execution_count": 15,
   "metadata": {},
   "outputs": [
    {
     "name": "stdout",
     "output_type": "stream",
     "text": [
      "[[7 3]\n",
      " [2 8]]\n",
      "accuracy: 0.75\n",
      "class 0, precision: 0.78, recall: 0.70,  f-score: 0.74\n",
      "class 1, precision: 0.73, recall: 0.80,  f-score: 0.76\n"
     ]
    }
   ],
   "source": [
    "from sklearn import metrics\n",
    "\n",
    "CM = metrics.confusion_matrix(y, y_pred)\n",
    "\n",
    "print(CM)\n",
    "print(\"accuracy: %.2f\" % metrics.accuracy_score(y, y_pred))\n",
    "\n",
    "# calculate precision and recall (and f-score, a weighted average of precision and recall) \n",
    "precision,recall,fscore,_ = metrics.precision_recall_fscore_support(y, y_pred)\n",
    "for c in np.unique(y):\n",
    "        print(\"class %s, precision: %.2f, recall: %.2f,  f-score: %.2f\" % (c, precision[c], recall[c], fscore[c]))"
   ]
  },
  {
   "cell_type": "markdown",
   "metadata": {},
   "source": [
    "## Report\n",
    "\n",
    "The main entry point to my solution is the gradient_descent() function. This function uses the batch gradient descent technique to calculate optimized theta values for a logistic hypothesis function. The function is an appropriate model for a binary classification problem. Given theta values, predict() will assign target values to each data sample in X based on a logistic hypothesis function parameterized on theta that is determined by calling h_log(). \n",
    "\n",
    "The function gradient_descent() relies on functions gradient_batch() and loss(). The loss() function in turn relies on the cost() function because to find the cost for one data sample in X. The loss() function then returns the average cost by summing all costs and dividing my the number of samples. The cost() function calculates cost using cross entropy, which ensures convergence to a global minimum. It relies on h_log() to calculate the cost for a given data sample. The gradient_descent() function calcualtes new theta values based on old theta values, a learning rate, and a gradient determined in gradient_batch() until the loss (calculated by loss() ) of using the new theta values in a hypothesis function is less than a given threshold. \n",
    "\n",
    "The gradient_batch() function depends on h_log() to calculate the gradient for a given theta_j. The gradient is calculated by summing for all samples the differences between h_log() probability and real target values multiplied by the sample's predictor value for feature j. \n",
    "\n",
    "The hypothesis function h_log() only depends on inner(). The losgistic hypothesis function h_theta(x) can be thought of as g(theta.transpose * x), where g(x) is the sigmoid function. Thus in my implementation, g(x) corresponds to the function h_log(), and the input to g(x) is calculated in the function inner(). Note: because of the data structures I use in my implementation, inner() does not explicitly use the transpose of theta, but the return value is equivalent to the dot product of theta transpose and x. "
   ]
  },
  {
   "cell_type": "code",
   "execution_count": 16,
   "metadata": {},
   "outputs": [
    {
     "data": {
      "image/jpeg": "[encoded data removed]",
      "text/plain": [
       "<IPython.core.display.Image object>"
      ]
     },
     "execution_count": 16,
     "metadata": {},
     "output_type": "execute_result"
    }
   ],
   "source": [
    "# Vizualization of dependencies \n",
    "\n",
    "from IPython.core.display import Image\n",
    "Image('logistic regression dependency graph.jpg')"
   ]
  },
  {
   "cell_type": "markdown",
   "metadata": {},
   "source": [
    "## Question 1\n",
    "\n",
    "### After how many iterations, and for which learning rate (α) did your algorithm converge? \n",
    "Using a learning rate of 0.2, my algorithm converged after 251 iterations. "
   ]
  },
  {
   "cell_type": "markdown",
   "metadata": {},
   "source": [
    "## Question 2\n",
    "\n",
    "### What happens if α is too large? How does this affect the loss function?\n",
    "\n",
    "If the learning rate is too large, then when it is multiplied by the gradient it 'skips' over the global minimum of the loss. In my example above, the gradient descent algorithm still converged because I set the loss threshold higher, but if I hadn't essentially forced the algorithm to stop, it would run infinitely, because the aplha value would cause divergence. \n",
    "\n",
    "Example: "
   ]
  },
  {
   "cell_type": "code",
   "execution_count": 17,
   "metadata": {},
   "outputs": [
    {
     "name": "stdout",
     "output_type": "stream",
     "text": [
      "Predictions: \n",
      " [0, 0, 0, 0, 0, 0, 0, 0, 0, 0, 0, 0, 0, 0, 0, 0, 0, 0, 0, 0]\n",
      "Theta: \n",
      " [[-1.7349539   0.09788114]]\n",
      "Mean squared error: 0.50\n"
     ]
    },
    {
     "data": {
      "text/plain": [
       "<matplotlib.collections.PathCollection at 0x28d26357c88>"
      ]
     },
     "execution_count": 17,
     "metadata": {},
     "output_type": "execute_result"
    },
    {
     "data": {
      "image/png": "[encoded data removed]",
      "text/plain": [
       "<Figure size 432x288 with 1 Axes>"
      ]
     },
     "metadata": {
      "needs_background": "light"
     },
     "output_type": "display_data"
    }
   ],
   "source": [
    "# Test with higher learning rate \n",
    "\n",
    "# set stopping criterion\n",
    "loss_stop_threshold = 0.008\n",
    "\n",
    "# learning rate\n",
    "alpha = 2\n",
    "\n",
    "\n",
    "optimal_theta, losses = gradient_descent(X, y, theta, alpha, loss_stop_threshold)\n",
    "y_pred_mine = predict(optimal_theta, X)\n",
    "\n",
    "# predictions\n",
    "print('Predictions: \\n', y_pred_mine)\n",
    "\n",
    "# The coefficients\n",
    "print('Theta: \\n', optimal_theta)\n",
    "\n",
    "# The mean squared error\n",
    "print(\"Mean squared error: %.2f\"\n",
    "      % mean_squared_error(y, y_pred_mine))\n",
    "\n",
    "# Plot outputs    \n",
    "plt.scatter(X, y,  color='black')\n",
    "plt.scatter(X, y_pred_mine, color='blue')"
   ]
  },
  {
   "cell_type": "code",
   "execution_count": 18,
   "metadata": {},
   "outputs": [
    {
     "data": {
      "text/plain": [
       "<matplotlib.collections.PathCollection at 0x28d263f6448>"
      ]
     },
     "execution_count": 18,
     "metadata": {},
     "output_type": "execute_result"
    },
    {
     "data": {
      "image/png": "[encoded data removed]",
      "text/plain": [
       "<Figure size 432x288 with 1 Axes>"
      ]
     },
     "metadata": {
      "needs_background": "light"
     },
     "output_type": "display_data"
    }
   ],
   "source": [
    "# Plot loss per iteration \n",
    "\n",
    "iterations = list(range(0, len(losses)))\n",
    "plt.scatter(iterations, losses)"
   ]
  },
  {
   "cell_type": "markdown",
   "metadata": {},
   "source": [
    "## Question 3\n",
    "\n",
    "### Assume that you are applying logistic regression to the iris (flower) dataset, as in the previous assignment. Answer the following questions: \n",
    "\n",
    "#### How would your hypothesis function change in this case and why? \n",
    "\n",
    "My hypothesis function would not have to change. This is because I would use the one-vs-all method for multi-class classification, which transforms the classification probelm itself into a series of binary classification problems, and thus the hypothesis function I've built would not have to change. I would have to change the predict function, however, because the way I've implemented it, it only considers one hypothesis function to make its prediction. In a multi-class problem on the other hand, the predict function will evaluate a hypothesis function for each class, compare probabilities, and assign the class that corresponds to the highest probability. It would no longer be a simple comparison to 0.5. I would also need to create a wrapper for gradient_descent() that takes a value of how many unique classes there are, and then create and return a list of that many optimized thetas by dividing X into that many binary classification problems. \n",
    "\n",
    "#### How would you utilize your implementation of logistic regression in order to perform (multi-class) classification on the iris dataset? \n",
    "\n",
    "Using the one-vs-all method, I would create four binary classification problems out of the four iris types. For each unique iris type, I would create an alternate set of training target sets that sets any target in the original set to 1 if it is the iris type and 0 if it is any other iris type. I would then run gradient descent once for each new set of target values and obtain 4 sets of optimzed parameters. This set of optimized parameters would allow me to classify a sample by finding the max probability accross all hypothesis functions. \n",
    "\n",
    "Psuedocode : \n"
   ]
  },
  {
   "cell_type": "raw",
   "metadata": {},
   "source": [
    "\n",
    "multi_classifier( X, y, old_theta, loss_stop_threshhold, aplha, unique_classes) :\n",
    "    theta <- old_theta.copy()\n",
    "    optimized  = {}\n",
    "    losses = {}\n",
    "    for i in range(0, unique_classes): \n",
    "        create new list y_modified \n",
    "        for each target in y: \n",
    "            if target == i:\n",
    "                add 1 to y_modified\n",
    "            else:\n",
    "                add 0 to y_modified\n",
    "        opt, losses <- gradient_descent(X, y_modified, theta, alpha, loss_stop_threshhold)\n",
    "        optimized.add( i: opt ) \n",
    "        losses.add( i: losses )\n",
    "    return optimized, losses\n",
    "    \n",
    "    \n",
    "multi_predict( optimized , X, unique_classes ):\n",
    "    m <- len(X)\n",
    "    y = []\n",
    "    for j in range(0, m):\n",
    "        probabilities = {} \n",
    "        for i in range( 0, unique_classes) :\n",
    "            probabilities.add( i : h_log( optimized[i] , X[j] ))\n",
    "        class <- get key of max value of probabilites\n",
    "        y.add( class ) \n",
    "    return y\n",
    "        "
   ]
  }
 ],
 "metadata": {
  "kernelspec": {
   "display_name": "Python 3",
   "language": "python",
   "name": "python3"
  },
  "language_info": {
   "codemirror_mode": {
    "name": "ipython",
    "version": 3
   },
   "file_extension": ".py",
   "mimetype": "text/x-python",
   "name": "python",
   "nbconvert_exporter": "python",
   "pygments_lexer": "ipython3",
   "version": "3.7.4"
  }
 },
 "nbformat": 4,
 "nbformat_minor": 2
}
